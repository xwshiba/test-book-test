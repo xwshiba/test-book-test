{
 "cells": [
  {
   "cell_type": "code",
   "execution_count": null,
   "id": "1cd97839-342b-4ae3-b0ec-8742d2b596c4",
   "metadata": {
    "tags": [
     "remove-cell"
    ]
   },
   "outputs": [],
   "source": [
    "%run -i ../python/common.py\n",
    "bash = BashSession()"
   ]
  },
  {
   "cell_type": "markdown",
   "id": "f9ec1a25-f2e1-44d9-a8a9-e199bdfff073",
   "metadata": {
    "tags": []
   },
   "source": [
    "# Special Displays"
   ]
  },
  {
   "cell_type": "markdown",
   "id": "9f8a2481-18d3-4b48-9dbf-e7bcbf6eb6fd",
   "metadata": {},
   "source": [
    "In this part of this book we will cover some cells that have special displays."
   ]
  },
  {
   "cell_type": "markdown",
   "id": "21599d18-acef-4092-9008-01b3badd3b2f",
   "metadata": {},
   "source": [
    "<hr>"
   ]
  },
  {
   "cell_type": "markdown",
   "id": "d6a04c5c-ca79-43fe-af24-7e5da027bc68",
   "metadata": {},
   "source": [
    "List:\n",
    "- 1 - A sample image that use customized styles\n",
    "- 2 - Display String in customized styles\n",
    "- 3 - Display terminal shell command results\n",
    "- 4 - Display bash command in customized styles\n",
    "- 5 - Use HTML and CSS to customize styles"
   ]
  },
  {
   "cell_type": "markdown",
   "id": "e14ea33d-6071-4ebf-96b2-8ba352ed9217",
   "metadata": {},
   "source": [
    "<hr>"
   ]
  },
  {
   "cell_type": "markdown",
   "id": "fd62f07c-4faf-442d-b4f1-5846934d1fd7",
   "metadata": {},
   "source": [
    "## A sample image that use customized styles"
   ]
  },
  {
   "cell_type": "code",
   "execution_count": null,
   "id": "0bf2af70-9895-46d2-be4a-dac2626acdea",
   "metadata": {
    "tags": [
     "remove-input"
    ]
   },
   "outputs": [],
   "source": [
    "display(Markdown(htmlFig(\"../images/sample-image.jpg\", \n",
    "              align=\"left\", \n",
    "              margin=\"auto 3em 0 auto\", \n",
    "              width=\"100%\", id=\"fig:vnm\", \n",
    "             caption=\"Figure: A Sample Image that use special style\")))"
   ]
  },
  {
   "cell_type": "markdown",
   "id": "39a8e1f1-5c59-4308-b499-1b62ff8a86f7",
   "metadata": {},
   "source": [
    "<hr>"
   ]
  },
  {
   "cell_type": "markdown",
   "id": "ed8e5287-6f31-4884-804e-80a085943ebf",
   "metadata": {
    "tags": []
   },
   "source": [
    "## Display String in customized styles"
   ]
  },
  {
   "cell_type": "code",
   "execution_count": null,
   "id": "ebbe7a23-3022-409a-9312-6bfc89471ada",
   "metadata": {
    "tags": [
     "remove-cell"
    ]
   },
   "outputs": [],
   "source": [
    "X=np.uint8(0xae)\n",
    "XL=np.bitwise_and(X,0xf)\n",
    "XH=np.bitwise_and(np.right_shift(X,4),0xf)"
   ]
  },
  {
   "cell_type": "code",
   "execution_count": null,
   "id": "b625cc41-c815-47d4-b9e3-7a3cc3c7b63e",
   "metadata": {
    "tags": [
     "remove-input"
    ]
   },
   "outputs": [],
   "source": [
    "displayStr(\"0b10101110 = 0x\"+format(X,\"02X\"), size=\"4em\", align=\"center\")"
   ]
  },
  {
   "cell_type": "markdown",
   "id": "11977aee-32f8-4b8a-8fa3-39695c70b780",
   "metadata": {},
   "source": [
    "<hr>"
   ]
  },
  {
   "cell_type": "markdown",
   "id": "efe0b0bb-0220-42f0-b07c-39ab1f9431f0",
   "metadata": {},
   "source": [
    "## Display terminal shell command results"
   ]
  },
  {
   "cell_type": "code",
   "execution_count": null,
   "id": "f115a626-e907-45c6-8bb4-fb7d2aaffbf9",
   "metadata": {
    "tags": [
     "remove-input"
    ]
   },
   "outputs": [],
   "source": [
    "TermShellCmd('hello')"
   ]
  },
  {
   "cell_type": "markdown",
   "id": "557f4a4e-214b-4a4a-ad4e-047ca22958ee",
   "metadata": {},
   "source": [
    "<hr>"
   ]
  },
  {
   "cell_type": "markdown",
   "id": "048c987a-41a2-4508-960e-06ba61fcfd85",
   "metadata": {},
   "source": [
    "## Display bash command in customized styles"
   ]
  },
  {
   "cell_type": "code",
   "execution_count": null,
   "id": "a4832405-4525-4bbc-99eb-34e557c49ec5",
   "metadata": {
    "tags": [
     "remove-input"
    ]
   },
   "outputs": [],
   "source": [
    "bash.run(\"help\", height=\"10em\")"
   ]
  },
  {
   "cell_type": "code",
   "execution_count": null,
   "id": "1e61188c-8838-4208-81a6-272e732acc60",
   "metadata": {
    "tags": [
     "remove-cell"
    ]
   },
   "outputs": [],
   "source": [
    "del bash"
   ]
  },
  {
   "cell_type": "markdown",
   "id": "4e8b9a39-0d50-4d82-b86b-758a940b842d",
   "metadata": {},
   "source": [
    "<hr>"
   ]
  },
  {
   "cell_type": "markdown",
   "id": "d54c5219-4249-4bfe-a46a-04e5b779421d",
   "metadata": {},
   "source": [
    "## Use HTML and CSS to customize styles"
   ]
  },
  {
   "cell_type": "markdown",
   "id": "cc29cc52-273c-4fb1-8084-6aaf75eb1821",
   "metadata": {},
   "source": [
    "This is the example of image overlapping with backgrounds.\n",
    "\n",
    ">  <img style=\"display: inline; margin: 1em auto auto auto;\" align=\"left\" width=\"60px\" src=\"../images/Product_icon-Red_Hat-Runtimes-RGB.png\"> <p style=\"background-color:powderblue;\"> \n",
    "    *This is some sample texts.*: This is some sample texts.This is some sample texts.This is some sample texts. This is some sample texts. This is some sample texts. This is some sample texts. This is some sample texts. This is some sample texts. This is some sample texts. This is some sample texts. This is some sample texts. This is some sample texts. This is some sample texts. This is some sample texts. This is some sample texts. This is some sample texts. This is some sample texts. This is some sample texts. This is some sample texts. This is some sample texts.\n",
    "    <img align=\"right\" width=\"60\" src=\"../images/Product_icon-Red_Hat-Runtimes-RGB.png\">\n",
    "</p>"
   ]
  }
 ],
 "metadata": {
  "kernelspec": {
   "display_name": "Python 3 (ipykernel)",
   "language": "python",
   "name": "python3"
  },
  "language_info": {
   "codemirror_mode": {
    "name": "ipython",
    "version": 3
   },
   "file_extension": ".py",
   "mimetype": "text/x-python",
   "name": "python",
   "nbconvert_exporter": "python",
   "pygments_lexer": "ipython3",
   "version": "3.10.5"
  }
 },
 "nbformat": 4,
 "nbformat_minor": 5
}
