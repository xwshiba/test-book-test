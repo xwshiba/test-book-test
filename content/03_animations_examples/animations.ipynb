{
 "cells": [
  {
   "cell_type": "code",
   "execution_count": null,
   "id": "dd5218ed-ac9a-403d-b2f3-12701c3bd2f0",
   "metadata": {
    "tags": [
     "remove-cell"
    ]
   },
   "outputs": [],
   "source": [
    "%run -i ../python/common.py"
   ]
  },
  {
   "cell_type": "markdown",
   "id": "c20bffe2-d852-4b42-9c80-e43dbe8ebc45",
   "metadata": {},
   "source": [
    "# Animation Examples"
   ]
  },
  {
   "cell_type": "markdown",
   "id": "5942212f-37f3-418e-b3cb-d852552e32cc",
   "metadata": {},
   "source": [
    "In this part of this book we will cover some special animated cells."
   ]
  },
  {
   "cell_type": "markdown",
   "id": "93ed602c-08bc-4bc6-8650-67712ea1b6ee",
   "metadata": {},
   "source": [
    "<hr>"
   ]
  },
  {
   "cell_type": "markdown",
   "id": "76b4cf4d-dae5-418d-aa1d-8bc686702b1e",
   "metadata": {},
   "source": [
    "List:\n",
    "- 1 - Display bytes in special styles\n",
    "- 2 - Display series of slide images\n",
    "- 3 - Display html table\n",
    "- 4 - Display iframe - other website\n",
    "- 5 - Display iframe - other interactive media player\n",
    "- 6 - Display iframe - interactive terminal media player"
   ]
  },
  {
   "cell_type": "markdown",
   "id": "c9a0f63d-7484-4918-a7f8-bac63483506c",
   "metadata": {},
   "source": [
    "<hr>"
   ]
  },
  {
   "cell_type": "markdown",
   "id": "c42d4e86-5e19-41ce-acb3-d8a295795686",
   "metadata": {},
   "source": [
    "## Display bytes in special styles"
   ]
  },
  {
   "cell_type": "code",
   "execution_count": null,
   "id": "e1a5690e-802d-4bd1-892d-7d2094e62a11",
   "metadata": {
    "tags": [
     "remove-cell"
    ]
   },
   "outputs": [],
   "source": [
    "X=np.uint8(0xae)\n",
    "XL=np.bitwise_and(X,0xf)\n",
    "XH=np.bitwise_and(np.right_shift(X,4),0xf)"
   ]
  },
  {
   "cell_type": "code",
   "execution_count": null,
   "id": "6f34c191-7173-45c4-87cd-586e989ea272",
   "metadata": {
    "tags": [
     "remove-cell",
     "remove-input"
    ]
   },
   "outputs": [],
   "source": [
    "displayBytes([[0x00],[0xff]], labels=[\"ALL OFF\", \"ALL ON\"])"
   ]
  },
  {
   "cell_type": "code",
   "execution_count": null,
   "id": "17c67977-1ee4-40d4-8168-7168ba0753a4",
   "metadata": {
    "tags": [
     "remove-input"
    ]
   },
   "outputs": [],
   "source": [
    "displayBytes(bytes=[[X]],td_font_size=\"2.5em\", th_font_size=\"1.5em\")"
   ]
  },
  {
   "cell_type": "markdown",
   "id": "d55fe9cd-5f0d-40ab-8a86-3e244742ed26",
   "metadata": {},
   "source": [
    "<hr>"
   ]
  },
  {
   "cell_type": "markdown",
   "id": "5f6d2d30-dfba-4f05-86ad-f49bbd5d3e7f",
   "metadata": {},
   "source": [
    "## Display series of slide images"
   ]
  },
  {
   "cell_type": "code",
   "execution_count": null,
   "id": "1ec48371-7868-434f-8748-4d9578295dff",
   "metadata": {
    "tags": [
     "remove-input"
    ]
   },
   "outputs": [],
   "source": [
    "display(mkImgsAnimateBox(dir=\"../images/imported_slides\",\n",
    "#                         force=True,\n",
    "                         saveto=\"save1.html\",\n",
    "    files=['General_Presentation_1.jpg',\n",
    "     'General_Presentation_2.jpg',\n",
    "     'General_Presentation_3.jpg',\n",
    "     'General_Presentation_4.jpg',\n",
    "     'General_Presentation_5.jpg',\n",
    "     'General_Presentation_6.jpg'\n",
    "          ]))"
   ]
  },
  {
   "cell_type": "markdown",
   "id": "ccb5d54b-cb40-418a-bb15-b04d835ff825",
   "metadata": {},
   "source": [
    "<hr>"
   ]
  },
  {
   "cell_type": "markdown",
   "id": "dcd48708-b552-4a4e-b817-b2dcde444906",
   "metadata": {},
   "source": [
    "## Display html table"
   ]
  },
  {
   "cell_type": "markdown",
   "id": "ebdad014-47a3-4301-81ea-90dc31eae47c",
   "metadata": {},
   "source": [
    "<a id=\"tbl:ctloperators\"></a>\n",
    "<center><em>Table Shell Control Operators</em></center>\n",
    "\n",
    "| Control Operator | Description    |\n",
    "| :--------------: | ------------- |\n",
    "|  newline   |  End of line |\n",
    "|      \\|\\|        |  Or list operator   |\n",
    "|      &&      |  And list operator  |\n",
    "|     ;          |  Sequential list operator |\n",
    "|     \\|          |  Pipe Operator |\n",
    "|     $\\&$         |  Background Operator | \n",
    "|    ( | Subshell list begin Operator |\n",
    "|    ) | Subshell list end Operator |\n",
    "|     ;; | Case statement end matching Operator |      \n",
    "|     ;& | Case statement fall through Operator |\n",
    "|     ;;& | Case statement continue matching Operator |"
   ]
  },
  {
   "cell_type": "markdown",
   "id": "8f833497-8d88-4f68-98f8-b3ecc66bfea8",
   "metadata": {},
   "source": [
    "<hr>"
   ]
  },
  {
   "cell_type": "markdown",
   "id": "e744ab4b-164b-4898-852f-967175fd7ecf",
   "metadata": {},
   "source": [
    "## Display iframe - other website"
   ]
  },
  {
   "cell_type": "code",
   "execution_count": null,
   "id": "377b62f8-c7c0-4bcd-b0c3-1fd5a93dcfdc",
   "metadata": {},
   "outputs": [],
   "source": [
    "display(IFrame(\"https://en.wikipedia.org/wiki/List_of_Unix_commands\", height=600, width=\"100%\"))"
   ]
  },
  {
   "cell_type": "markdown",
   "id": "608a0e59-9106-4fdd-a469-384f82bd122c",
   "metadata": {},
   "source": [
    "<hr>"
   ]
  },
  {
   "cell_type": "markdown",
   "id": "80299cf8-873f-4f9d-8994-1d9db0d0db50",
   "metadata": {},
   "source": [
    "## Display iframe - other interactive media player"
   ]
  },
  {
   "cell_type": "code",
   "execution_count": null,
   "id": "dd31cd85-31bf-4b8f-ba6b-395d1a485115",
   "metadata": {},
   "outputs": [],
   "source": [
    "display(HTML('''\n",
    "<iframe src=\"https://jappavoo.github.io/SOL6502/index.html\", height=\"980px\" width=\"100%\"></iframe>\n",
    "'''))"
   ]
  },
  {
   "cell_type": "markdown",
   "id": "687498c0-09cf-48fe-b8e3-3166330d1c93",
   "metadata": {},
   "source": [
    "<hr>"
   ]
  },
  {
   "cell_type": "markdown",
   "id": "6d8e3bec-be02-4328-a0b8-fb5a95ae59c8",
   "metadata": {},
   "source": [
    "## Display iframe - interactive terminal media player"
   ]
  },
  {
   "cell_type": "markdown",
   "id": "372c4c38-53d3-48a5-9b8c-80c3601120a1",
   "metadata": {},
   "source": [
    "Source code: https://jappavoo.github.io/SOL6502"
   ]
  },
  {
   "cell_type": "code",
   "execution_count": null,
   "id": "fd193a06-c552-4972-b4fa-646f6eb56763",
   "metadata": {},
   "outputs": [],
   "source": [
    "display(HTML('''\n",
    "<iframe src=\"https://jappavoo.github.io/SOL6502/asciinema/atest.html\", height=\"600x\" width=\"100%\"></iframe>\n",
    "'''))"
   ]
  }
 ],
 "metadata": {
  "kernelspec": {
   "display_name": "Python 3 (ipykernel)",
   "language": "python",
   "name": "python3"
  },
  "language_info": {
   "codemirror_mode": {
    "name": "ipython",
    "version": 3
   },
   "file_extension": ".py",
   "mimetype": "text/x-python",
   "name": "python",
   "nbconvert_exporter": "python",
   "pygments_lexer": "ipython3",
   "version": "3.10.5"
  }
 },
 "nbformat": 4,
 "nbformat_minor": 5
}
