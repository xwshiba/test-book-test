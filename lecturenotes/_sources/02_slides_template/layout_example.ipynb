{
 "cells": [
  {
   "cell_type": "markdown",
   "id": "ff79cafa-6e35-4ad0-8aa1-e1b1ec887315",
   "metadata": {
    "slideshow": {
     "slide_type": "skip"
    },
    "tags": []
   },
   "source": [
    "# Example Slidedeck "
   ]
  },
  {
   "cell_type": "markdown",
   "id": "6e4b43ae-1148-4103-8068-9f579b5a0ef0",
   "metadata": {
    "slideshow": {
     "slide_type": "skip"
    },
    "tags": []
   },
   "source": [
    "In this part of this book we will cover some cells that have special displays.\n",
    "\n",
    "The example slide deck is copied from the [slide deck repo](https://github.com/YiqinZhang/OPE-RISE/blob/main/demo). \n",
    "\n",
    "Please make sure to sync with the source."
   ]
  },
  {
   "cell_type": "markdown",
   "id": "f9a18df0-5970-499d-a718-7849bb8a99b7",
   "metadata": {
    "slideshow": {
     "slide_type": "skip"
    },
    "tags": []
   },
   "source": [
    "<hr>"
   ]
  },
  {
   "cell_type": "markdown",
   "id": "d11194ee-c060-479e-9e77-b2e261d733d6",
   "metadata": {
    "slideshow": {
     "slide_type": "skip"
    },
    "tags": []
   },
   "source": [
    "List:\n",
    "- 0 - Blank\n",
    "- 1 - Image only\n",
    "- 2 - Left Bullets and Image\n",
    "- 3 - Right Bullets and image\n",
    "- 4 - Two column image\n",
    "- 5 - Bullets\n",
    "- 6 - Two column bullets\n",
    "- 7 - Title Slide"
   ]
  },
  {
   "cell_type": "markdown",
   "id": "996b975d-307b-45db-b723-8578a0397759",
   "metadata": {
    "slideshow": {
     "slide_type": "skip"
    },
    "tags": []
   },
   "source": [
    "<hr>"
   ]
  },
  {
   "cell_type": "markdown",
   "id": "bea1e652-2695-4d52-a70f-9bc631793b95",
   "metadata": {
    "slideshow": {
     "slide_type": "skip"
    },
    "tags": []
   },
   "source": [
    "**0) Blank**"
   ]
  },
  {
   "cell_type": "markdown",
   "id": "5d1d7bd9-1065-41fb-b15c-2f01adb28a04",
   "metadata": {
    "slideshow": {
     "slide_type": "skip"
    },
    "tags": []
   },
   "source": [
    "**BODY**"
   ]
  },
  {
   "cell_type": "markdown",
   "id": "6cb31b2b-3a85-4d96-bd3a-5a84a5a4faba",
   "metadata": {
    "slideshow": {
     "slide_type": "slide"
    },
    "tags": []
   },
   "source": [
    "We will try to illustrate single-column slides like this one."
   ]
  },
  {
   "cell_type": "markdown",
   "id": "dac6a7a7-3e20-4756-809f-fef63404c4cd",
   "metadata": {
    "slideshow": {
     "slide_type": "skip"
    },
    "tags": []
   },
   "source": [
    "**NOTE**"
   ]
  },
  {
   "cell_type": "markdown",
   "id": "4b7928fa-86d5-49e9-9259-87f3a8c66e08",
   "metadata": {
    "slideshow": {
     "slide_type": "notes"
    },
    "tags": []
   },
   "source": [
    "- a Note that will display in the notes view"
   ]
  },
  {
   "cell_type": "markdown",
   "id": "ce7aaf15-a0c5-4a1a-96f6-2838924b4813",
   "metadata": {
    "slideshow": {
     "slide_type": "skip"
    },
    "tags": []
   },
   "source": [
    "- - - "
   ]
  },
  {
   "cell_type": "markdown",
   "id": "024e6714-8c41-4657-95fe-7a297223ad98",
   "metadata": {
    "slideshow": {
     "slide_type": "skip"
    },
    "tags": []
   },
   "source": [
    "**1)Image Only**"
   ]
  },
  {
   "cell_type": "markdown",
   "id": "8712813b-9cab-4bb9-be63-114d0b3b2bd6",
   "metadata": {
    "slideshow": {
     "slide_type": "skip"
    },
    "tags": []
   },
   "source": [
    "**BODY**"
   ]
  },
  {
   "cell_type": "markdown",
   "id": "e31a1cf6-2545-41ee-ae99-a299586174b1",
   "metadata": {
    "slideshow": {
     "slide_type": "slide"
    },
    "tags": []
   },
   "source": [
    "<img src=\"../images/sample-image.jpg\" width = \"100%\">"
   ]
  },
  {
   "cell_type": "markdown",
   "id": "2699215f-3956-4253-a638-3b2d0e1990e6",
   "metadata": {
    "slideshow": {
     "slide_type": "skip"
    },
    "tags": []
   },
   "source": [
    "**NOTE**"
   ]
  },
  {
   "cell_type": "markdown",
   "id": "9c3e6b2d-c167-4f87-922f-64a512c34f17",
   "metadata": {
    "slideshow": {
     "slide_type": "notes"
    },
    "tags": []
   },
   "source": [
    "- Using % of slide to scale the image"
   ]
  },
  {
   "cell_type": "markdown",
   "id": "498468d8-96d0-42b1-bb68-e0db151de786",
   "metadata": {
    "slideshow": {
     "slide_type": "skip"
    },
    "tags": []
   },
   "source": [
    "- - - "
   ]
  },
  {
   "cell_type": "markdown",
   "id": "3ebb29ca-63b8-4775-a3f8-bf49f2f73704",
   "metadata": {
    "slideshow": {
     "slide_type": "skip"
    },
    "tags": []
   },
   "source": [
    "**2)Left Bullets and image**"
   ]
  },
  {
   "cell_type": "markdown",
   "id": "940c1115-ac2b-496c-9b5d-f873fff2ca97",
   "metadata": {
    "slideshow": {
     "slide_type": "slide"
    },
    "tags": []
   },
   "source": [
    "# Title"
   ]
  },
  {
   "cell_type": "markdown",
   "id": "3aaaf7a6-3fdb-48ad-bbe9-adb489586bd5",
   "metadata": {
    "slideshow": {
     "slide_type": "skip"
    },
    "tags": []
   },
   "source": [
    "**BODY**"
   ]
  },
  {
   "cell_type": "markdown",
   "id": "65748953-b574-4c3a-b7c9-c62404ca40e0",
   "metadata": {
    "cell_style": "split",
    "hide_input": false,
    "tags": []
   },
   "source": [
    "<table>\n",
    "  <tr>\n",
    "\n",
    "   <td width=“100%“>\n",
    "         \n",
    "Here is a **left column**: \n",
    "- Something about figure\n",
    "- Something else about it\n",
    "- a long description\n",
    "          \n",
    "    </td>\n",
    "      <td>\n",
    "<img align=\"right\" src=\"../images/sample-image.jpg\">\n",
    "    </td>\n",
    "    </tr>\n",
    "</table>"
   ]
  },
  {
   "cell_type": "markdown",
   "id": "e5db9374-0391-4508-a80a-d9322efdfc14",
   "metadata": {
    "slideshow": {
     "slide_type": "skip"
    },
    "tags": []
   },
   "source": [
    "**NOTE**"
   ]
  },
  {
   "cell_type": "markdown",
   "id": "2b8a96b6-c9e9-469a-bbd9-77b04c3be39e",
   "metadata": {
    "slideshow": {
     "slide_type": "notes"
    },
    "tags": []
   },
   "source": [
    "- A simple example that has bullets on left of figure while using markdown\n"
   ]
  },
  {
   "cell_type": "markdown",
   "id": "6657b5ae-e54d-41ef-ad85-407f2aea3763",
   "metadata": {
    "slideshow": {
     "slide_type": "skip"
    },
    "tags": []
   },
   "source": [
    "- - - "
   ]
  },
  {
   "cell_type": "markdown",
   "id": "50ffa382-2b71-4c14-a419-a208fff369af",
   "metadata": {
    "slideshow": {
     "slide_type": "skip"
    },
    "tags": []
   },
   "source": [
    "**3) Right Bullets and image**"
   ]
  },
  {
   "cell_type": "markdown",
   "id": "6521b19f-51fa-4828-b260-ef288fb6f968",
   "metadata": {
    "slideshow": {
     "slide_type": "slide"
    },
    "tags": []
   },
   "source": [
    "# Title"
   ]
  },
  {
   "cell_type": "markdown",
   "id": "15a2a1e3-a7e1-4164-8971-60dae9a64f1d",
   "metadata": {
    "slideshow": {
     "slide_type": "skip"
    },
    "tags": []
   },
   "source": [
    "**BODY**"
   ]
  },
  {
   "cell_type": "markdown",
   "id": "59a68bf0-c5f2-4565-993e-4227e469594e",
   "metadata": {},
   "source": [
    "<table>\n",
    "<tr>\n",
    "   <td width=\"40%\">\n",
    "      <img  src=\"../images/sample-image.jpg\">\n",
    "    </td>\n",
    "   <td> \n",
    "\n",
    "Here is a **right column**: \n",
    "- Something about figure\n",
    "- Something else about it\n",
    "- a long description\n",
    "       \n",
    "    </td>\n",
    "</table> "
   ]
  },
  {
   "cell_type": "markdown",
   "id": "759afe25-95fd-4dbf-a63f-d1a62574732b",
   "metadata": {
    "slideshow": {
     "slide_type": "skip"
    },
    "tags": []
   },
   "source": [
    "**NOTE**"
   ]
  },
  {
   "cell_type": "markdown",
   "id": "47df028a-2be1-4ea8-a3fa-959a39ccbd4a",
   "metadata": {
    "slideshow": {
     "slide_type": "notes"
    },
    "tags": []
   },
   "source": [
    "- An example with an image on the left and bullets on the right using a two-column HTML table"
   ]
  },
  {
   "cell_type": "markdown",
   "id": "3de2dedc-aa84-42ce-a047-030b2749171d",
   "metadata": {
    "slideshow": {
     "slide_type": "skip"
    },
    "tags": []
   },
   "source": [
    "- - - "
   ]
  },
  {
   "cell_type": "markdown",
   "id": "4cb64e4f-452f-429b-8016-91624fc818ff",
   "metadata": {
    "slideshow": {
     "slide_type": "skip"
    },
    "tags": []
   },
   "source": [
    "**3) Right Bullets and image**"
   ]
  },
  {
   "cell_type": "markdown",
   "id": "f0fdb428-65a1-48f8-9073-aa51a4759e7a",
   "metadata": {
    "slideshow": {
     "slide_type": "slide"
    },
    "tags": []
   },
   "source": [
    "# Title"
   ]
  },
  {
   "cell_type": "markdown",
   "id": "02ab525b-7f95-443b-a7c8-25a4b8e90912",
   "metadata": {
    "slideshow": {
     "slide_type": "skip"
    },
    "tags": []
   },
   "source": [
    "**BODY**"
   ]
  },
  {
   "cell_type": "markdown",
   "id": "b4630296-8e95-42a4-b356-d042be023841",
   "metadata": {},
   "source": [
    "\n",
    "<img src=\"../images/sample-image.jpg\" width=\"40%\" style=\"margin:2em 1em 0em 0em\" align=\"left\" >\n",
    "\n",
    "### Texts on the right wrapping image on the left\n",
    "\n",
    "**Bullet 1:** Something about figure,Something else about it, and a long description\n",
    "\n",
    "**Bullet 2:** Something about figure,Something else about it, and a long description\n",
    "\n",
    "**Bullet 3:** Something about figure,Something else about it, and a long description\n",
    "\n",
    "**Bullet 4:** Something about figure,Something else about it, and a long description"
   ]
  },
  {
   "cell_type": "markdown",
   "id": "47796263-b1cb-483d-9464-c13c744f6284",
   "metadata": {},
   "source": [
    "**NOTE**"
   ]
  },
  {
   "cell_type": "markdown",
   "id": "128f3671-eaf7-4f56-9b14-e4483458b684",
   "metadata": {
    "slideshow": {
     "slide_type": "notes"
    },
    "tags": []
   },
   "source": [
    "- A simple example that has texts on the right wrapping image on the left while using markdown"
   ]
  },
  {
   "cell_type": "markdown",
   "id": "410e2cb4-2c0f-4b6a-a7e8-98d4cc0e94ae",
   "metadata": {
    "slideshow": {
     "slide_type": "skip"
    },
    "tags": []
   },
   "source": [
    "- - - "
   ]
  },
  {
   "cell_type": "markdown",
   "id": "93464ac6-4752-47a4-b90d-8332e8c3c69d",
   "metadata": {
    "slideshow": {
     "slide_type": "skip"
    },
    "tags": []
   },
   "source": [
    "**4)Two Column image**"
   ]
  },
  {
   "cell_type": "markdown",
   "id": "d32d16cc-eef6-4d43-bbb6-f1364b12ab6a",
   "metadata": {
    "slideshow": {
     "slide_type": "slide"
    },
    "tags": []
   },
   "source": [
    "# Title"
   ]
  },
  {
   "cell_type": "markdown",
   "id": "55bfda1c-5566-4577-a77e-1edbb7832141",
   "metadata": {
    "tags": []
   },
   "source": [
    "<table>\n",
    "<tr>\n",
    "   <td width=\"40%\">\n",
    "      <img  src=\"../images/sample-image.jpg\">\n",
    "    </td>\n",
    "   <td width=\"40%\">\n",
    "      <img  src=\"../images/sample-image.jpg\">\n",
    "    </td>\n",
    "<tr>\n",
    "   <td>\n",
    "\n",
    "       \n",
    "- Something about figure,or a long description\n",
    "    </td>\n",
    "    <td>\n",
    "\n",
    "        \n",
    "-Something about figure,or a long description\n",
    "    </td>\n",
    "</table>"
   ]
  },
  {
   "cell_type": "markdown",
   "id": "48048a9d-dc66-42de-8e21-a22fe6e56f4d",
   "metadata": {
    "slideshow": {
     "slide_type": "skip"
    },
    "tags": []
   },
   "source": [
    "**NOTE**"
   ]
  },
  {
   "cell_type": "markdown",
   "id": "17615c83-7f5b-4aa8-8aa8-1f231f22c917",
   "metadata": {
    "slideshow": {
     "slide_type": "notes"
    },
    "tags": []
   },
   "source": [
    "- Using a table to control % of slide for both parts with larger image"
   ]
  },
  {
   "cell_type": "markdown",
   "id": "001a544b-1991-4b3d-9a3b-d04a663130ce",
   "metadata": {
    "slideshow": {
     "slide_type": "skip"
    },
    "tags": []
   },
   "source": [
    "- - - "
   ]
  },
  {
   "cell_type": "markdown",
   "id": "6518bcbc-1c48-47f9-a601-ad9ee2be8b69",
   "metadata": {
    "slideshow": {
     "slide_type": "skip"
    },
    "tags": []
   },
   "source": [
    "**5)Bullets**"
   ]
  },
  {
   "cell_type": "markdown",
   "id": "112fba1c-ea88-4c3a-836a-f1bf5b0cdcc2",
   "metadata": {
    "slideshow": {
     "slide_type": "slide"
    },
    "tags": []
   },
   "source": [
    "# Title"
   ]
  },
  {
   "cell_type": "markdown",
   "id": "ea64c615-b63e-4eb4-9ce3-e5778d65ae6e",
   "metadata": {},
   "source": [
    "- **Bullet 1:** Something keypoints, and a long description\n",
    "\n",
    "- **Bullet 2:** Something keypoints, and a long description\n",
    "\n",
    "- **Bullet 3:** Something keypoints, and a long description\n",
    "\n",
    "- **Bullet 4:** Something keypoints, and a long description"
   ]
  },
  {
   "cell_type": "markdown",
   "id": "ac8323bf-ff3e-4011-8ad6-01c0b37d88dc",
   "metadata": {
    "slideshow": {
     "slide_type": "skip"
    },
    "tags": []
   },
   "source": [
    "**NOTE**"
   ]
  },
  {
   "cell_type": "markdown",
   "id": "079c260b-9729-4563-be4c-8b419b94cba7",
   "metadata": {
    "slideshow": {
     "slide_type": "notes"
    },
    "tags": []
   },
   "source": [
    "- a Note that will display in the notes view"
   ]
  },
  {
   "cell_type": "markdown",
   "id": "c5cdb8b8-cd2b-41c8-87bb-c6d24c80dbcd",
   "metadata": {
    "slideshow": {
     "slide_type": "skip"
    },
    "tags": []
   },
   "source": [
    "- - - "
   ]
  },
  {
   "cell_type": "markdown",
   "id": "447e73aa-183e-4d99-b9ac-25e41c91bd1e",
   "metadata": {
    "slideshow": {
     "slide_type": "skip"
    },
    "tags": []
   },
   "source": [
    "**6)Two Column Bullets**"
   ]
  },
  {
   "cell_type": "markdown",
   "id": "dbfe02dd-9df5-4b0d-ac65-5b2a2a20de31",
   "metadata": {
    "slideshow": {
     "slide_type": "slide"
    },
    "tags": []
   },
   "source": [
    "# Title"
   ]
  },
  {
   "cell_type": "markdown",
   "id": "61465a93-6052-43a5-8050-3483a903fd67",
   "metadata": {},
   "source": [
    "<table>\n",
    "<tr>\n",
    "   <td>\n",
    "       \n",
    "       \n",
    "**Left Column:** \n",
    "- Bullet 1: Something keypoints, and a long description\n",
    "- Bullet 2: Something keypoints, and a long description\n",
    "- a long description, a long description,a long description, a long description, a long description, a long description, a long description, a long description, a long description, a long description, a long description\n",
    "    </td>\n",
    "   <td> \n",
    "\n",
    "       \n",
    "**Right Column:** \n",
    "- Bullet 1: Something keypoints, and a long description\n",
    "- Bullet 2: Something keypoints, and a long description\n",
    "- a long description, a long description, a long description, a long description, a long description, a long description, a long description, a long description, a long description, a long description, a long description\n",
    "     \n",
    "       \n",
    "    </td>\n",
    "</table> "
   ]
  },
  {
   "cell_type": "markdown",
   "id": "31919371-180f-447b-bff0-2c30c6f3632a",
   "metadata": {
    "slideshow": {
     "slide_type": "skip"
    },
    "tags": []
   },
   "source": [
    "**NOTE**"
   ]
  },
  {
   "cell_type": "markdown",
   "id": "75173945-10c3-4be3-8142-9a1d2fffa8bf",
   "metadata": {
    "slideshow": {
     "slide_type": "notes"
    },
    "tags": []
   },
   "source": [
    "- Using a table to control % of slide for both parts"
   ]
  },
  {
   "cell_type": "markdown",
   "id": "a4cd566c-0db8-49f7-8d72-1976447777f5",
   "metadata": {
    "slideshow": {
     "slide_type": "skip"
    },
    "tags": []
   },
   "source": [
    "- - - "
   ]
  },
  {
   "cell_type": "markdown",
   "id": "e95014c9-0d8b-4cad-8312-2a310c76b546",
   "metadata": {
    "slideshow": {
     "slide_type": "skip"
    },
    "tags": []
   },
   "source": [
    "**7)Title Slide**"
   ]
  },
  {
   "cell_type": "markdown",
   "id": "459a6321-47c0-4d13-84d7-803c93205b9a",
   "metadata": {
    "slideshow": {
     "slide_type": "slide"
    },
    "tags": []
   },
   "source": [
    "# Title"
   ]
  },
  {
   "cell_type": "markdown",
   "id": "f4cc5815-63d9-45da-bf9f-1d69054132b5",
   "metadata": {
    "slideshow": {
     "slide_type": "skip"
    },
    "tags": []
   },
   "source": [
    "**NOTE**"
   ]
  },
  {
   "cell_type": "markdown",
   "id": "23d20666-1810-4c5d-b952-c400fcdf54a1",
   "metadata": {
    "slideshow": {
     "slide_type": "notes"
    },
    "tags": []
   },
   "source": [
    "- a Note that will display in the notes view"
   ]
  },
  {
   "cell_type": "markdown",
   "id": "8f1decd8-0278-4f8f-ab0e-d582a1a1d763",
   "metadata": {
    "slideshow": {
     "slide_type": "skip"
    },
    "tags": []
   },
   "source": [
    "- - - "
   ]
  },
  {
   "cell_type": "markdown",
   "id": "c11725dc-b881-489a-b3ec-3f706082c0c3",
   "metadata": {
    "slideshow": {
     "slide_type": "skip"
    },
    "tags": [
     "remove-cell"
    ]
   },
   "source": [
    "This is the end of the document."
   ]
  }
 ],
 "metadata": {
  "celltoolbar": "Slideshow",
  "hide_input": true,
  "kernelspec": {
   "display_name": "Python 3 (ipykernel)",
   "language": "python",
   "name": "python3"
  },
  "language_info": {
   "codemirror_mode": {
    "name": "ipython",
    "version": 3
   },
   "file_extension": ".py",
   "mimetype": "text/x-python",
   "name": "python",
   "nbconvert_exporter": "python",
   "pygments_lexer": "ipython3",
   "version": "3.10.5"
  },
  "rise": {
   "enable_chalkboard": true,
   "height": "90%",
   "scroll": true,
   "start_slideshow_at": "selected",
   "transition": "none",
   "width": "90%"
  }
 },
 "nbformat": 4,
 "nbformat_minor": 5
}
